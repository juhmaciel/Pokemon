{
  "nbformat": 4,
  "nbformat_minor": 0,
  "metadata": {
    "colab": {
      "provenance": [],
      "authorship_tag": "ABX9TyMrnqZySaFpa0MbJJtPMx5v",
      "include_colab_link": true
    },
    "kernelspec": {
      "name": "python3",
      "display_name": "Python 3"
    },
    "language_info": {
      "name": "python"
    }
  },
  "cells": [
    {
      "cell_type": "markdown",
      "metadata": {
        "id": "view-in-github",
        "colab_type": "text"
      },
      "source": [
        "<a href=\"https://colab.research.google.com/github/juhmaciel/Pokemon/blob/main/Projeto_Final_Pokemon.ipynb\" target=\"_parent\"><img src=\"https://colab.research.google.com/assets/colab-badge.svg\" alt=\"Open In Colab\"/></a>"
      ]
    },
    {
      "cell_type": "code",
      "execution_count": 6,
      "metadata": {
        "colab": {
          "base_uri": "https://localhost:8080/"
        },
        "id": "n_EhdrZyODKJ",
        "outputId": "c776bebe-3364-4164-8673-96562de996c5"
      },
      "outputs": [
        {
          "output_type": "stream",
          "name": "stdout",
          "text": [
            "      Pokemon  Altura  Peso          Poder\n",
            "0   bulbasaur       7    69  grass, poison\n",
            "1     ivysaur      10   130  grass, poison\n",
            "2    venusaur      20  1000  grass, poison\n",
            "3  charmander       6    85           fire\n",
            "4  charmeleon      11   190           fire\n",
            "------------------------------------------\n",
            "          Geração  Espécies de Pokemon\n",
            "0    generation-i                  151\n",
            "1   generation-ii                  100\n",
            "2  generation-iii                  135\n",
            "3   generation-iv                  107\n",
            "4    generation-v                  156\n",
            "------------------------------------------\n",
            "                   Local  Região\n",
            "0          canalave-city  sinnoh\n",
            "1            eterna-city  sinnoh\n",
            "2          pastoria-city  sinnoh\n",
            "3         sunyshore-city  sinnoh\n",
            "4  sinnoh-pokemon-league  sinnoh\n",
            "------------------------------------------\n"
          ]
        }
      ],
      "source": [
        "import pandas as pd\n",
        "import requests\n",
        "\n",
        "# Extração das informações de Pokémons\n",
        "def extract_pokemon_data():\n",
        "    url = 'https://pokeapi.co/api/v2/pokemon'\n",
        "    response = requests.get(url)\n",
        "\n",
        "    if response.status_code == 200:\n",
        "        data = response.json()\n",
        "\n",
        "        # Pegando os primeiros 5 Pokémons da lista\n",
        "        pokemons = data['results'][:5]\n",
        "\n",
        "        pokemon_list = []\n",
        "        for pokemon in pokemons:\n",
        "            name = pokemon['name']\n",
        "            url = pokemon['url']\n",
        "            pokemon_data = requests.get(url).json()\n",
        "            pokemon_list.append({\n",
        "                'Pokemon': name,\n",
        "                'Altura': pokemon_data['height'],\n",
        "                'Peso': pokemon_data['weight'],\n",
        "                'Poder': ', '.join([t['type']['name'] for t in pokemon_data['types']])\n",
        "            })\n",
        "\n",
        "        df = pd.DataFrame(pokemon_list)\n",
        "        print(df)\n",
        "        print(\"------------------------------------------\")\n",
        "\n",
        "# Extração das informações de Gerações\n",
        "def extract_generations_data():\n",
        "    url = 'https://pokeapi.co/api/v2/generation'\n",
        "    response = requests.get(url)\n",
        "\n",
        "    if response.status_code == 200:\n",
        "        data = response.json()\n",
        "\n",
        "        # Pegando as primeiras 5 gerações da lista\n",
        "        generations = data['results'][:5]\n",
        "\n",
        "        generation_list = []\n",
        "        for generation in generations:\n",
        "            name = generation['name']\n",
        "            url = generation['url']\n",
        "            generation_data = requests.get(url).json()\n",
        "            generation_list.append({\n",
        "                'Geração': name,\n",
        "                'Espécies de Pokemon': len(generation_data['pokemon_species'])\n",
        "            })\n",
        "\n",
        "        df = pd.DataFrame(generation_list)\n",
        "        print(df)\n",
        "        print(\"------------------------------------------\")\n",
        "\n",
        "# Extração das informações de Localizações\n",
        "def extract_location_data():\n",
        "    url = 'https://pokeapi.co/api/v2/location'\n",
        "    response = requests.get(url)\n",
        "\n",
        "    if response.status_code == 200:\n",
        "        data = response.json()\n",
        "\n",
        "        # Pegando as primeiras 5 localizações da lista\n",
        "        locations = data['results'][:5]\n",
        "\n",
        "        location_list = []\n",
        "        for location in locations:\n",
        "            name = location['name']\n",
        "            url = location['url']\n",
        "            location_data = requests.get(url).json()\n",
        "            location_list.append({\n",
        "                'Local': name,\n",
        "                'Região': location_data['region']['name']\n",
        "            })\n",
        "\n",
        "        df = pd.DataFrame(location_list)\n",
        "        print(df)\n",
        "        print(\"------------------------------------------\")\n",
        "    else:\n",
        "        print(f\"https://http.dog/{response.status_code}.jpg\")\n",
        "\n",
        "extract_pokemon_data()\n",
        "extract_generations_data()\n",
        "extract_location_data()"
      ]
    },
    {
      "cell_type": "code",
      "source": [],
      "metadata": {
        "id": "EvACn2miOVtp"
      },
      "execution_count": null,
      "outputs": []
    }
  ]
}